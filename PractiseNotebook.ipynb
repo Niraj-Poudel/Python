{
 "cells": [
  {
   "cell_type": "markdown",
   "metadata": {},
   "source": [
    "1.This is the practise page"
   ]
  },
  {
   "cell_type": "code",
   "execution_count": 1,
   "metadata": {},
   "outputs": [
    {
     "name": "stdout",
     "output_type": "stream",
     "text": [
      "Hello world\n"
     ]
    }
   ],
   "source": [
    "print(\"Hello world\")"
   ]
  },
  {
   "cell_type": "code",
   "execution_count": 6,
   "metadata": {},
   "outputs": [
    {
     "data": {
      "text/plain": [
       "Cars    [Lamborghini, Buggati, BMW, Maruti, Suzuki]\n",
       "dtype: object"
      ]
     },
     "execution_count": 6,
     "metadata": {},
     "output_type": "execute_result"
    }
   ],
   "source": [
    "import pandas as pd\n",
    "cars = (['Lamborghini','Buggati', 'BMW', 'Maruti','Suzuki'])\n",
    "pd.Series({'Cars': cars})"
   ]
  },
  {
   "cell_type": "code",
   "execution_count": 15,
   "metadata": {},
   "outputs": [
    {
     "data": {
      "text/plain": [
       "Colors    [Red, Blue, White, Green, Yellow]\n",
       "dtype: object"
      ]
     },
     "execution_count": 15,
     "metadata": {},
     "output_type": "execute_result"
    }
   ],
   "source": [
    "colors = (['Red', 'Blue', 'White', 'Green', 'Yellow'])\n",
    "pd.Series({'Colors':colors})"
   ]
  },
  {
   "cell_type": "code",
   "execution_count": 16,
   "metadata": {},
   "outputs": [
    {
     "data": {
      "text/html": [
       "<div>\n",
       "<style scoped>\n",
       "    .dataframe tbody tr th:only-of-type {\n",
       "        vertical-align: middle;\n",
       "    }\n",
       "\n",
       "    .dataframe tbody tr th {\n",
       "        vertical-align: top;\n",
       "    }\n",
       "\n",
       "    .dataframe thead th {\n",
       "        text-align: right;\n",
       "    }\n",
       "</style>\n",
       "<table border=\"1\" class=\"dataframe\">\n",
       "  <thead>\n",
       "    <tr style=\"text-align: right;\">\n",
       "      <th></th>\n",
       "      <th>Cars</th>\n",
       "      <th>Colors</th>\n",
       "    </tr>\n",
       "  </thead>\n",
       "  <tbody>\n",
       "    <tr>\n",
       "      <th>0</th>\n",
       "      <td>Lamborghini</td>\n",
       "      <td>Red</td>\n",
       "    </tr>\n",
       "    <tr>\n",
       "      <th>1</th>\n",
       "      <td>Buggati</td>\n",
       "      <td>Blue</td>\n",
       "    </tr>\n",
       "    <tr>\n",
       "      <th>2</th>\n",
       "      <td>BMW</td>\n",
       "      <td>White</td>\n",
       "    </tr>\n",
       "    <tr>\n",
       "      <th>3</th>\n",
       "      <td>Maruti</td>\n",
       "      <td>Green</td>\n",
       "    </tr>\n",
       "    <tr>\n",
       "      <th>4</th>\n",
       "      <td>Suzuki</td>\n",
       "      <td>Yellow</td>\n",
       "    </tr>\n",
       "  </tbody>\n",
       "</table>\n",
       "</div>"
      ],
      "text/plain": [
       "          Cars  Colors\n",
       "0  Lamborghini     Red\n",
       "1      Buggati    Blue\n",
       "2          BMW   White\n",
       "3       Maruti   Green\n",
       "4       Suzuki  Yellow"
      ]
     },
     "execution_count": 16,
     "metadata": {},
     "output_type": "execute_result"
    }
   ],
   "source": [
    "pd.DataFrame({'Cars': cars, 'Colors': colors})"
   ]
  },
  {
   "cell_type": "code",
   "execution_count": 19,
   "metadata": {},
   "outputs": [
    {
     "data": {
      "text/html": [
       "<div>\n",
       "<style scoped>\n",
       "    .dataframe tbody tr th:only-of-type {\n",
       "        vertical-align: middle;\n",
       "    }\n",
       "\n",
       "    .dataframe tbody tr th {\n",
       "        vertical-align: top;\n",
       "    }\n",
       "\n",
       "    .dataframe thead th {\n",
       "        text-align: right;\n",
       "    }\n",
       "</style>\n",
       "<table border=\"1\" class=\"dataframe\">\n",
       "  <thead>\n",
       "    <tr style=\"text-align: right;\">\n",
       "      <th></th>\n",
       "      <th>Firstname</th>\n",
       "      <th>Lastname</th>\n",
       "      <th>Username</th>\n",
       "      <th>Password</th>\n",
       "      <th>Address</th>\n",
       "      <th>Contact</th>\n",
       "      <th>DateOfBirth</th>\n",
       "      <th>Email</th>\n",
       "      <th>Zip</th>\n",
       "    </tr>\n",
       "  </thead>\n",
       "  <tbody>\n",
       "    <tr>\n",
       "      <th>0</th>\n",
       "      <td>Niraj</td>\n",
       "      <td>Poudel</td>\n",
       "      <td>@niraj</td>\n",
       "      <td>123</td>\n",
       "      <td>Arghakhanchi</td>\n",
       "      <td>9867330664</td>\n",
       "      <td>1999-01-10</td>\n",
       "      <td>nirajpoudel100@gmail.com</td>\n",
       "      <td>123.0</td>\n",
       "    </tr>\n",
       "    <tr>\n",
       "      <th>1</th>\n",
       "      <td>Niraj</td>\n",
       "      <td>Chudali</td>\n",
       "      <td>nj</td>\n",
       "      <td>nj18</td>\n",
       "      <td>Kathmandu</td>\n",
       "      <td>1234567890</td>\n",
       "      <td>1998-02-30</td>\n",
       "      <td>nj@gmail.com</td>\n",
       "      <td>456.0</td>\n",
       "    </tr>\n",
       "    <tr>\n",
       "      <th>2</th>\n",
       "      <td>virat</td>\n",
       "      <td>Kohli</td>\n",
       "      <td>virat</td>\n",
       "      <td>kholi12</td>\n",
       "      <td>Delhi</td>\n",
       "      <td>1234098756</td>\n",
       "      <td>1999-01-10</td>\n",
       "      <td>virat@gmail.com</td>\n",
       "      <td>789.0</td>\n",
       "    </tr>\n",
       "    <tr>\n",
       "      <th>3</th>\n",
       "      <td>Mahi</td>\n",
       "      <td>Singh</td>\n",
       "      <td>mahi</td>\n",
       "      <td>dhoni</td>\n",
       "      <td>Ranchi</td>\n",
       "      <td>2345067890</td>\n",
       "      <td>1998-02-30</td>\n",
       "      <td>nirajpoudel100@gmail.com</td>\n",
       "      <td>987.0</td>\n",
       "    </tr>\n",
       "    <tr>\n",
       "      <th>4</th>\n",
       "      <td>Niraj</td>\n",
       "      <td>Niraj</td>\n",
       "      <td>Niraj</td>\n",
       "      <td>Niraj</td>\n",
       "      <td>sandhikharka</td>\n",
       "      <td>4750345834</td>\n",
       "      <td>1999-01-10</td>\n",
       "      <td>nj@gmail.com</td>\n",
       "      <td>654.0</td>\n",
       "    </tr>\n",
       "    <tr>\n",
       "      <th>5</th>\n",
       "      <td>Niraj</td>\n",
       "      <td>Niraj</td>\n",
       "      <td>Niraj</td>\n",
       "      <td>Niraj</td>\n",
       "      <td>Arghakhanchi</td>\n",
       "      <td>5364853596</td>\n",
       "      <td>1998-02-30</td>\n",
       "      <td>virat@gmail.com</td>\n",
       "      <td>321.0</td>\n",
       "    </tr>\n",
       "    <tr>\n",
       "      <th>6</th>\n",
       "      <td>virat</td>\n",
       "      <td>virat</td>\n",
       "      <td>virat</td>\n",
       "      <td>virat</td>\n",
       "      <td>Kathmandu</td>\n",
       "      <td>6587932040</td>\n",
       "      <td>1999-01-10</td>\n",
       "      <td>nirajpoudel100@gmail.com</td>\n",
       "      <td>234.0</td>\n",
       "    </tr>\n",
       "    <tr>\n",
       "      <th>7</th>\n",
       "      <td>Mahi</td>\n",
       "      <td>Mahi</td>\n",
       "      <td>Mahi</td>\n",
       "      <td>Mahi</td>\n",
       "      <td>Delhi</td>\n",
       "      <td>9364594376</td>\n",
       "      <td>1998-02-30</td>\n",
       "      <td>nj@gmail.com</td>\n",
       "      <td>567.0</td>\n",
       "    </tr>\n",
       "    <tr>\n",
       "      <th>8</th>\n",
       "      <td>Niraj</td>\n",
       "      <td>Niraj</td>\n",
       "      <td>Niraj</td>\n",
       "      <td>Niraj</td>\n",
       "      <td>Ranchi</td>\n",
       "      <td>7084045794</td>\n",
       "      <td>1999-01-10</td>\n",
       "      <td>virat@gmail.com</td>\n",
       "      <td>754.0</td>\n",
       "    </tr>\n",
       "    <tr>\n",
       "      <th>9</th>\n",
       "      <td>Niraj</td>\n",
       "      <td>Niraj</td>\n",
       "      <td>Niraj</td>\n",
       "      <td>Niraj</td>\n",
       "      <td>Arghakhanchi</td>\n",
       "      <td>4745245848</td>\n",
       "      <td>1998-02-30</td>\n",
       "      <td>nirajpoudel100@gmail.com</td>\n",
       "      <td>867.0</td>\n",
       "    </tr>\n",
       "    <tr>\n",
       "      <th>10</th>\n",
       "      <td>virat</td>\n",
       "      <td>virat</td>\n",
       "      <td>virat</td>\n",
       "      <td>virat</td>\n",
       "      <td>Kathmandu</td>\n",
       "      <td>5703458045</td>\n",
       "      <td>1999-01-10</td>\n",
       "      <td>nj@gmail.com</td>\n",
       "      <td>280.0</td>\n",
       "    </tr>\n",
       "    <tr>\n",
       "      <th>11</th>\n",
       "      <td>Mahi</td>\n",
       "      <td>Mahi</td>\n",
       "      <td>Mahi</td>\n",
       "      <td>Mahi</td>\n",
       "      <td>Delhi</td>\n",
       "      <td>6498903479</td>\n",
       "      <td>1998-02-30</td>\n",
       "      <td>virat@gmail.com</td>\n",
       "      <td>760.0</td>\n",
       "    </tr>\n",
       "    <tr>\n",
       "      <th>12</th>\n",
       "      <td>Niraj</td>\n",
       "      <td>Niraj</td>\n",
       "      <td>Niraj</td>\n",
       "      <td>Niraj</td>\n",
       "      <td>Ranchi</td>\n",
       "      <td>4709639449</td>\n",
       "      <td>1999-01-10</td>\n",
       "      <td>nirajpoudel100@gmail.com</td>\n",
       "      <td>456.0</td>\n",
       "    </tr>\n",
       "    <tr>\n",
       "      <th>13</th>\n",
       "      <td>Niraj</td>\n",
       "      <td>Niraj</td>\n",
       "      <td>Niraj</td>\n",
       "      <td>Niraj</td>\n",
       "      <td>pokhara</td>\n",
       "      <td>3456783333</td>\n",
       "      <td>1998-02-30</td>\n",
       "      <td>nj@gmail.com</td>\n",
       "      <td>567.0</td>\n",
       "    </tr>\n",
       "    <tr>\n",
       "      <th>14</th>\n",
       "      <td>virat</td>\n",
       "      <td>virat</td>\n",
       "      <td>virat</td>\n",
       "      <td>virat</td>\n",
       "      <td>Arghakhanchi</td>\n",
       "      <td>1234568650</td>\n",
       "      <td>1999-01-10</td>\n",
       "      <td>virat@gmail.com</td>\n",
       "      <td>NaN</td>\n",
       "    </tr>\n",
       "    <tr>\n",
       "      <th>15</th>\n",
       "      <td>Mahi</td>\n",
       "      <td>Mahi</td>\n",
       "      <td>Mahi</td>\n",
       "      <td>Mahi</td>\n",
       "      <td>Kathmandu</td>\n",
       "      <td>874646467</td>\n",
       "      <td>1998-02-30</td>\n",
       "      <td>niraj123@gmail.com</td>\n",
       "      <td>NaN</td>\n",
       "    </tr>\n",
       "  </tbody>\n",
       "</table>\n",
       "</div>"
      ],
      "text/plain": [
       "   Firstname Lastname Username Password       Address     Contact DateOfBirth  \\\n",
       "0      Niraj   Poudel   @niraj      123  Arghakhanchi  9867330664  1999-01-10   \n",
       "1      Niraj  Chudali       nj     nj18     Kathmandu  1234567890  1998-02-30   \n",
       "2      virat    Kohli    virat  kholi12         Delhi  1234098756  1999-01-10   \n",
       "3       Mahi    Singh     mahi    dhoni        Ranchi  2345067890  1998-02-30   \n",
       "4      Niraj    Niraj    Niraj    Niraj  sandhikharka  4750345834  1999-01-10   \n",
       "5      Niraj    Niraj    Niraj    Niraj  Arghakhanchi  5364853596  1998-02-30   \n",
       "6      virat    virat    virat    virat     Kathmandu  6587932040  1999-01-10   \n",
       "7       Mahi     Mahi     Mahi     Mahi         Delhi  9364594376  1998-02-30   \n",
       "8      Niraj    Niraj    Niraj    Niraj        Ranchi  7084045794  1999-01-10   \n",
       "9      Niraj    Niraj    Niraj    Niraj  Arghakhanchi  4745245848  1998-02-30   \n",
       "10     virat    virat    virat    virat     Kathmandu  5703458045  1999-01-10   \n",
       "11      Mahi     Mahi     Mahi     Mahi         Delhi  6498903479  1998-02-30   \n",
       "12     Niraj    Niraj    Niraj    Niraj        Ranchi  4709639449  1999-01-10   \n",
       "13     Niraj    Niraj    Niraj    Niraj       pokhara  3456783333  1998-02-30   \n",
       "14     virat    virat    virat    virat  Arghakhanchi  1234568650  1999-01-10   \n",
       "15      Mahi     Mahi     Mahi     Mahi     Kathmandu   874646467  1998-02-30   \n",
       "\n",
       "                       Email    Zip  \n",
       "0   nirajpoudel100@gmail.com  123.0  \n",
       "1               nj@gmail.com  456.0  \n",
       "2            virat@gmail.com  789.0  \n",
       "3   nirajpoudel100@gmail.com  987.0  \n",
       "4               nj@gmail.com  654.0  \n",
       "5            virat@gmail.com  321.0  \n",
       "6   nirajpoudel100@gmail.com  234.0  \n",
       "7               nj@gmail.com  567.0  \n",
       "8            virat@gmail.com  754.0  \n",
       "9   nirajpoudel100@gmail.com  867.0  \n",
       "10              nj@gmail.com  280.0  \n",
       "11           virat@gmail.com  760.0  \n",
       "12  nirajpoudel100@gmail.com  456.0  \n",
       "13              nj@gmail.com  567.0  \n",
       "14           virat@gmail.com    NaN  \n",
       "15        niraj123@gmail.com    NaN  "
      ]
     },
     "execution_count": 19,
     "metadata": {},
     "output_type": "execute_result"
    }
   ],
   "source": [
    "df = pd.read_csv('/home/niraj/Desktop/data.csv')\n",
    "df"
   ]
  },
  {
   "cell_type": "code",
   "execution_count": 20,
   "metadata": {},
   "outputs": [
    {
     "data": {
      "text/plain": [
       "Contact    4.691005e+09\n",
       "Zip        5.582143e+02\n",
       "dtype: float64"
      ]
     },
     "execution_count": 20,
     "metadata": {},
     "output_type": "execute_result"
    }
   ],
   "source": [
    "df.mean()"
   ]
  },
  {
   "cell_type": "code",
   "execution_count": 21,
   "metadata": {},
   "outputs": [
    {
     "data": {
      "text/plain": [
       "Contact    4.747796e+09\n",
       "Zip        5.670000e+02\n",
       "dtype: float64"
      ]
     },
     "execution_count": 21,
     "metadata": {},
     "output_type": "execute_result"
    }
   ],
   "source": [
    "df.median()"
   ]
  },
  {
   "cell_type": "code",
   "execution_count": 22,
   "metadata": {},
   "outputs": [
    {
     "data": {
      "text/html": [
       "<div>\n",
       "<style scoped>\n",
       "    .dataframe tbody tr th:only-of-type {\n",
       "        vertical-align: middle;\n",
       "    }\n",
       "\n",
       "    .dataframe tbody tr th {\n",
       "        vertical-align: top;\n",
       "    }\n",
       "\n",
       "    .dataframe thead th {\n",
       "        text-align: right;\n",
       "    }\n",
       "</style>\n",
       "<table border=\"1\" class=\"dataframe\">\n",
       "  <thead>\n",
       "    <tr style=\"text-align: right;\">\n",
       "      <th></th>\n",
       "      <th>Firstname</th>\n",
       "      <th>Lastname</th>\n",
       "      <th>Username</th>\n",
       "      <th>Password</th>\n",
       "      <th>Address</th>\n",
       "      <th>Contact</th>\n",
       "      <th>DateOfBirth</th>\n",
       "      <th>Email</th>\n",
       "      <th>Zip</th>\n",
       "    </tr>\n",
       "  </thead>\n",
       "  <tbody>\n",
       "    <tr>\n",
       "      <th>0</th>\n",
       "      <td>Niraj</td>\n",
       "      <td>Niraj</td>\n",
       "      <td>Niraj</td>\n",
       "      <td>Niraj</td>\n",
       "      <td>Arghakhanchi</td>\n",
       "      <td>874646467</td>\n",
       "      <td>1998-02-30</td>\n",
       "      <td>nirajpoudel100@gmail.com</td>\n",
       "      <td>456.0</td>\n",
       "    </tr>\n",
       "    <tr>\n",
       "      <th>1</th>\n",
       "      <td>NaN</td>\n",
       "      <td>NaN</td>\n",
       "      <td>NaN</td>\n",
       "      <td>NaN</td>\n",
       "      <td>Kathmandu</td>\n",
       "      <td>1234098756</td>\n",
       "      <td>1999-01-10</td>\n",
       "      <td>nj@gmail.com</td>\n",
       "      <td>567.0</td>\n",
       "    </tr>\n",
       "    <tr>\n",
       "      <th>2</th>\n",
       "      <td>NaN</td>\n",
       "      <td>NaN</td>\n",
       "      <td>NaN</td>\n",
       "      <td>NaN</td>\n",
       "      <td>NaN</td>\n",
       "      <td>1234567890</td>\n",
       "      <td>NaN</td>\n",
       "      <td>virat@gmail.com</td>\n",
       "      <td>NaN</td>\n",
       "    </tr>\n",
       "    <tr>\n",
       "      <th>3</th>\n",
       "      <td>NaN</td>\n",
       "      <td>NaN</td>\n",
       "      <td>NaN</td>\n",
       "      <td>NaN</td>\n",
       "      <td>NaN</td>\n",
       "      <td>1234568650</td>\n",
       "      <td>NaN</td>\n",
       "      <td>NaN</td>\n",
       "      <td>NaN</td>\n",
       "    </tr>\n",
       "    <tr>\n",
       "      <th>4</th>\n",
       "      <td>NaN</td>\n",
       "      <td>NaN</td>\n",
       "      <td>NaN</td>\n",
       "      <td>NaN</td>\n",
       "      <td>NaN</td>\n",
       "      <td>2345067890</td>\n",
       "      <td>NaN</td>\n",
       "      <td>NaN</td>\n",
       "      <td>NaN</td>\n",
       "    </tr>\n",
       "    <tr>\n",
       "      <th>5</th>\n",
       "      <td>NaN</td>\n",
       "      <td>NaN</td>\n",
       "      <td>NaN</td>\n",
       "      <td>NaN</td>\n",
       "      <td>NaN</td>\n",
       "      <td>3456783333</td>\n",
       "      <td>NaN</td>\n",
       "      <td>NaN</td>\n",
       "      <td>NaN</td>\n",
       "    </tr>\n",
       "    <tr>\n",
       "      <th>6</th>\n",
       "      <td>NaN</td>\n",
       "      <td>NaN</td>\n",
       "      <td>NaN</td>\n",
       "      <td>NaN</td>\n",
       "      <td>NaN</td>\n",
       "      <td>4709639449</td>\n",
       "      <td>NaN</td>\n",
       "      <td>NaN</td>\n",
       "      <td>NaN</td>\n",
       "    </tr>\n",
       "    <tr>\n",
       "      <th>7</th>\n",
       "      <td>NaN</td>\n",
       "      <td>NaN</td>\n",
       "      <td>NaN</td>\n",
       "      <td>NaN</td>\n",
       "      <td>NaN</td>\n",
       "      <td>4745245848</td>\n",
       "      <td>NaN</td>\n",
       "      <td>NaN</td>\n",
       "      <td>NaN</td>\n",
       "    </tr>\n",
       "    <tr>\n",
       "      <th>8</th>\n",
       "      <td>NaN</td>\n",
       "      <td>NaN</td>\n",
       "      <td>NaN</td>\n",
       "      <td>NaN</td>\n",
       "      <td>NaN</td>\n",
       "      <td>4750345834</td>\n",
       "      <td>NaN</td>\n",
       "      <td>NaN</td>\n",
       "      <td>NaN</td>\n",
       "    </tr>\n",
       "    <tr>\n",
       "      <th>9</th>\n",
       "      <td>NaN</td>\n",
       "      <td>NaN</td>\n",
       "      <td>NaN</td>\n",
       "      <td>NaN</td>\n",
       "      <td>NaN</td>\n",
       "      <td>5364853596</td>\n",
       "      <td>NaN</td>\n",
       "      <td>NaN</td>\n",
       "      <td>NaN</td>\n",
       "    </tr>\n",
       "    <tr>\n",
       "      <th>10</th>\n",
       "      <td>NaN</td>\n",
       "      <td>NaN</td>\n",
       "      <td>NaN</td>\n",
       "      <td>NaN</td>\n",
       "      <td>NaN</td>\n",
       "      <td>5703458045</td>\n",
       "      <td>NaN</td>\n",
       "      <td>NaN</td>\n",
       "      <td>NaN</td>\n",
       "    </tr>\n",
       "    <tr>\n",
       "      <th>11</th>\n",
       "      <td>NaN</td>\n",
       "      <td>NaN</td>\n",
       "      <td>NaN</td>\n",
       "      <td>NaN</td>\n",
       "      <td>NaN</td>\n",
       "      <td>6498903479</td>\n",
       "      <td>NaN</td>\n",
       "      <td>NaN</td>\n",
       "      <td>NaN</td>\n",
       "    </tr>\n",
       "    <tr>\n",
       "      <th>12</th>\n",
       "      <td>NaN</td>\n",
       "      <td>NaN</td>\n",
       "      <td>NaN</td>\n",
       "      <td>NaN</td>\n",
       "      <td>NaN</td>\n",
       "      <td>6587932040</td>\n",
       "      <td>NaN</td>\n",
       "      <td>NaN</td>\n",
       "      <td>NaN</td>\n",
       "    </tr>\n",
       "    <tr>\n",
       "      <th>13</th>\n",
       "      <td>NaN</td>\n",
       "      <td>NaN</td>\n",
       "      <td>NaN</td>\n",
       "      <td>NaN</td>\n",
       "      <td>NaN</td>\n",
       "      <td>7084045794</td>\n",
       "      <td>NaN</td>\n",
       "      <td>NaN</td>\n",
       "      <td>NaN</td>\n",
       "    </tr>\n",
       "    <tr>\n",
       "      <th>14</th>\n",
       "      <td>NaN</td>\n",
       "      <td>NaN</td>\n",
       "      <td>NaN</td>\n",
       "      <td>NaN</td>\n",
       "      <td>NaN</td>\n",
       "      <td>9364594376</td>\n",
       "      <td>NaN</td>\n",
       "      <td>NaN</td>\n",
       "      <td>NaN</td>\n",
       "    </tr>\n",
       "    <tr>\n",
       "      <th>15</th>\n",
       "      <td>NaN</td>\n",
       "      <td>NaN</td>\n",
       "      <td>NaN</td>\n",
       "      <td>NaN</td>\n",
       "      <td>NaN</td>\n",
       "      <td>9867330664</td>\n",
       "      <td>NaN</td>\n",
       "      <td>NaN</td>\n",
       "      <td>NaN</td>\n",
       "    </tr>\n",
       "  </tbody>\n",
       "</table>\n",
       "</div>"
      ],
      "text/plain": [
       "   Firstname Lastname Username Password       Address     Contact DateOfBirth  \\\n",
       "0      Niraj    Niraj    Niraj    Niraj  Arghakhanchi   874646467  1998-02-30   \n",
       "1        NaN      NaN      NaN      NaN     Kathmandu  1234098756  1999-01-10   \n",
       "2        NaN      NaN      NaN      NaN           NaN  1234567890         NaN   \n",
       "3        NaN      NaN      NaN      NaN           NaN  1234568650         NaN   \n",
       "4        NaN      NaN      NaN      NaN           NaN  2345067890         NaN   \n",
       "5        NaN      NaN      NaN      NaN           NaN  3456783333         NaN   \n",
       "6        NaN      NaN      NaN      NaN           NaN  4709639449         NaN   \n",
       "7        NaN      NaN      NaN      NaN           NaN  4745245848         NaN   \n",
       "8        NaN      NaN      NaN      NaN           NaN  4750345834         NaN   \n",
       "9        NaN      NaN      NaN      NaN           NaN  5364853596         NaN   \n",
       "10       NaN      NaN      NaN      NaN           NaN  5703458045         NaN   \n",
       "11       NaN      NaN      NaN      NaN           NaN  6498903479         NaN   \n",
       "12       NaN      NaN      NaN      NaN           NaN  6587932040         NaN   \n",
       "13       NaN      NaN      NaN      NaN           NaN  7084045794         NaN   \n",
       "14       NaN      NaN      NaN      NaN           NaN  9364594376         NaN   \n",
       "15       NaN      NaN      NaN      NaN           NaN  9867330664         NaN   \n",
       "\n",
       "                       Email    Zip  \n",
       "0   nirajpoudel100@gmail.com  456.0  \n",
       "1               nj@gmail.com  567.0  \n",
       "2            virat@gmail.com    NaN  \n",
       "3                        NaN    NaN  \n",
       "4                        NaN    NaN  \n",
       "5                        NaN    NaN  \n",
       "6                        NaN    NaN  \n",
       "7                        NaN    NaN  \n",
       "8                        NaN    NaN  \n",
       "9                        NaN    NaN  \n",
       "10                       NaN    NaN  \n",
       "11                       NaN    NaN  \n",
       "12                       NaN    NaN  \n",
       "13                       NaN    NaN  \n",
       "14                       NaN    NaN  \n",
       "15                       NaN    NaN  "
      ]
     },
     "execution_count": 22,
     "metadata": {},
     "output_type": "execute_result"
    }
   ],
   "source": [
    "df.mode()"
   ]
  },
  {
   "cell_type": "code",
   "execution_count": 24,
   "metadata": {},
   "outputs": [
    {
     "data": {
      "text/plain": [
       "Firstname      True\n",
       "Lastname       True\n",
       "Username       True\n",
       "Password       True\n",
       "Address        True\n",
       "Contact        True\n",
       "DateOfBirth    True\n",
       "Email          True\n",
       "Zip            True\n",
       "dtype: bool"
      ]
     },
     "execution_count": 24,
     "metadata": {},
     "output_type": "execute_result"
    }
   ],
   "source": [
    "df.all()"
   ]
  },
  {
   "cell_type": "code",
   "execution_count": 25,
   "metadata": {},
   "outputs": [
    {
     "data": {
      "text/html": [
       "<div>\n",
       "<style scoped>\n",
       "    .dataframe tbody tr th:only-of-type {\n",
       "        vertical-align: middle;\n",
       "    }\n",
       "\n",
       "    .dataframe tbody tr th {\n",
       "        vertical-align: top;\n",
       "    }\n",
       "\n",
       "    .dataframe thead th {\n",
       "        text-align: right;\n",
       "    }\n",
       "</style>\n",
       "<table border=\"1\" class=\"dataframe\">\n",
       "  <thead>\n",
       "    <tr style=\"text-align: right;\">\n",
       "      <th></th>\n",
       "      <th>Firstname</th>\n",
       "      <th>Lastname</th>\n",
       "      <th>Username</th>\n",
       "      <th>Password</th>\n",
       "      <th>Address</th>\n",
       "      <th>Contact</th>\n",
       "      <th>DateOfBirth</th>\n",
       "      <th>Email</th>\n",
       "      <th>Zip</th>\n",
       "    </tr>\n",
       "  </thead>\n",
       "  <tbody>\n",
       "    <tr>\n",
       "      <th>0</th>\n",
       "      <td>Niraj</td>\n",
       "      <td>Poudel</td>\n",
       "      <td>@niraj</td>\n",
       "      <td>123</td>\n",
       "      <td>Arghakhanchi</td>\n",
       "      <td>9867330664</td>\n",
       "      <td>1999-01-10</td>\n",
       "      <td>nirajpoudel100@gmail.com</td>\n",
       "      <td>123.0</td>\n",
       "    </tr>\n",
       "    <tr>\n",
       "      <th>1</th>\n",
       "      <td>Niraj</td>\n",
       "      <td>Chudali</td>\n",
       "      <td>nj</td>\n",
       "      <td>nj18</td>\n",
       "      <td>Kathmandu</td>\n",
       "      <td>1234567890</td>\n",
       "      <td>1998-02-30</td>\n",
       "      <td>nj@gmail.com</td>\n",
       "      <td>456.0</td>\n",
       "    </tr>\n",
       "    <tr>\n",
       "      <th>2</th>\n",
       "      <td>virat</td>\n",
       "      <td>Kohli</td>\n",
       "      <td>virat</td>\n",
       "      <td>kholi12</td>\n",
       "      <td>Delhi</td>\n",
       "      <td>1234098756</td>\n",
       "      <td>1999-01-10</td>\n",
       "      <td>virat@gmail.com</td>\n",
       "      <td>789.0</td>\n",
       "    </tr>\n",
       "    <tr>\n",
       "      <th>3</th>\n",
       "      <td>Mahi</td>\n",
       "      <td>Singh</td>\n",
       "      <td>mahi</td>\n",
       "      <td>dhoni</td>\n",
       "      <td>Ranchi</td>\n",
       "      <td>2345067890</td>\n",
       "      <td>1998-02-30</td>\n",
       "      <td>nirajpoudel100@gmail.com</td>\n",
       "      <td>987.0</td>\n",
       "    </tr>\n",
       "    <tr>\n",
       "      <th>4</th>\n",
       "      <td>Niraj</td>\n",
       "      <td>Niraj</td>\n",
       "      <td>Niraj</td>\n",
       "      <td>Niraj</td>\n",
       "      <td>sandhikharka</td>\n",
       "      <td>4750345834</td>\n",
       "      <td>1999-01-10</td>\n",
       "      <td>nj@gmail.com</td>\n",
       "      <td>654.0</td>\n",
       "    </tr>\n",
       "  </tbody>\n",
       "</table>\n",
       "</div>"
      ],
      "text/plain": [
       "  Firstname Lastname Username Password       Address     Contact DateOfBirth  \\\n",
       "0     Niraj   Poudel   @niraj      123  Arghakhanchi  9867330664  1999-01-10   \n",
       "1     Niraj  Chudali       nj     nj18     Kathmandu  1234567890  1998-02-30   \n",
       "2     virat    Kohli    virat  kholi12         Delhi  1234098756  1999-01-10   \n",
       "3      Mahi    Singh     mahi    dhoni        Ranchi  2345067890  1998-02-30   \n",
       "4     Niraj    Niraj    Niraj    Niraj  sandhikharka  4750345834  1999-01-10   \n",
       "\n",
       "                      Email    Zip  \n",
       "0  nirajpoudel100@gmail.com  123.0  \n",
       "1              nj@gmail.com  456.0  \n",
       "2           virat@gmail.com  789.0  \n",
       "3  nirajpoudel100@gmail.com  987.0  \n",
       "4              nj@gmail.com  654.0  "
      ]
     },
     "execution_count": 25,
     "metadata": {},
     "output_type": "execute_result"
    }
   ],
   "source": [
    "df.head()"
   ]
  },
  {
   "cell_type": "code",
   "execution_count": 26,
   "metadata": {},
   "outputs": [
    {
     "data": {
      "text/html": [
       "<div>\n",
       "<style scoped>\n",
       "    .dataframe tbody tr th:only-of-type {\n",
       "        vertical-align: middle;\n",
       "    }\n",
       "\n",
       "    .dataframe tbody tr th {\n",
       "        vertical-align: top;\n",
       "    }\n",
       "\n",
       "    .dataframe thead th {\n",
       "        text-align: right;\n",
       "    }\n",
       "</style>\n",
       "<table border=\"1\" class=\"dataframe\">\n",
       "  <thead>\n",
       "    <tr style=\"text-align: right;\">\n",
       "      <th></th>\n",
       "      <th>Firstname</th>\n",
       "      <th>Lastname</th>\n",
       "      <th>Username</th>\n",
       "      <th>Password</th>\n",
       "      <th>Address</th>\n",
       "      <th>Contact</th>\n",
       "      <th>DateOfBirth</th>\n",
       "      <th>Email</th>\n",
       "      <th>Zip</th>\n",
       "    </tr>\n",
       "  </thead>\n",
       "  <tbody>\n",
       "    <tr>\n",
       "      <th>11</th>\n",
       "      <td>Mahi</td>\n",
       "      <td>Mahi</td>\n",
       "      <td>Mahi</td>\n",
       "      <td>Mahi</td>\n",
       "      <td>Delhi</td>\n",
       "      <td>6498903479</td>\n",
       "      <td>1998-02-30</td>\n",
       "      <td>virat@gmail.com</td>\n",
       "      <td>760.0</td>\n",
       "    </tr>\n",
       "    <tr>\n",
       "      <th>12</th>\n",
       "      <td>Niraj</td>\n",
       "      <td>Niraj</td>\n",
       "      <td>Niraj</td>\n",
       "      <td>Niraj</td>\n",
       "      <td>Ranchi</td>\n",
       "      <td>4709639449</td>\n",
       "      <td>1999-01-10</td>\n",
       "      <td>nirajpoudel100@gmail.com</td>\n",
       "      <td>456.0</td>\n",
       "    </tr>\n",
       "    <tr>\n",
       "      <th>13</th>\n",
       "      <td>Niraj</td>\n",
       "      <td>Niraj</td>\n",
       "      <td>Niraj</td>\n",
       "      <td>Niraj</td>\n",
       "      <td>pokhara</td>\n",
       "      <td>3456783333</td>\n",
       "      <td>1998-02-30</td>\n",
       "      <td>nj@gmail.com</td>\n",
       "      <td>567.0</td>\n",
       "    </tr>\n",
       "    <tr>\n",
       "      <th>14</th>\n",
       "      <td>virat</td>\n",
       "      <td>virat</td>\n",
       "      <td>virat</td>\n",
       "      <td>virat</td>\n",
       "      <td>Arghakhanchi</td>\n",
       "      <td>1234568650</td>\n",
       "      <td>1999-01-10</td>\n",
       "      <td>virat@gmail.com</td>\n",
       "      <td>NaN</td>\n",
       "    </tr>\n",
       "    <tr>\n",
       "      <th>15</th>\n",
       "      <td>Mahi</td>\n",
       "      <td>Mahi</td>\n",
       "      <td>Mahi</td>\n",
       "      <td>Mahi</td>\n",
       "      <td>Kathmandu</td>\n",
       "      <td>874646467</td>\n",
       "      <td>1998-02-30</td>\n",
       "      <td>niraj123@gmail.com</td>\n",
       "      <td>NaN</td>\n",
       "    </tr>\n",
       "  </tbody>\n",
       "</table>\n",
       "</div>"
      ],
      "text/plain": [
       "   Firstname Lastname Username Password       Address     Contact DateOfBirth  \\\n",
       "11      Mahi     Mahi     Mahi     Mahi         Delhi  6498903479  1998-02-30   \n",
       "12     Niraj    Niraj    Niraj    Niraj        Ranchi  4709639449  1999-01-10   \n",
       "13     Niraj    Niraj    Niraj    Niraj       pokhara  3456783333  1998-02-30   \n",
       "14     virat    virat    virat    virat  Arghakhanchi  1234568650  1999-01-10   \n",
       "15      Mahi     Mahi     Mahi     Mahi     Kathmandu   874646467  1998-02-30   \n",
       "\n",
       "                       Email    Zip  \n",
       "11           virat@gmail.com  760.0  \n",
       "12  nirajpoudel100@gmail.com  456.0  \n",
       "13              nj@gmail.com  567.0  \n",
       "14           virat@gmail.com    NaN  \n",
       "15        niraj123@gmail.com    NaN  "
      ]
     },
     "execution_count": 26,
     "metadata": {},
     "output_type": "execute_result"
    }
   ],
   "source": [
    "df.tail()"
   ]
  },
  {
   "cell_type": "code",
   "execution_count": 29,
   "metadata": {},
   "outputs": [
    {
     "data": {
      "text/plain": [
       "Firstname       object\n",
       "Lastname        object\n",
       "Username        object\n",
       "Password        object\n",
       "Address         object\n",
       "Contact          int64\n",
       "DateOfBirth     object\n",
       "Email           object\n",
       "Zip            float64\n",
       "dtype: object"
      ]
     },
     "execution_count": 29,
     "metadata": {},
     "output_type": "execute_result"
    }
   ],
   "source": [
    "df.dtypes"
   ]
  },
  {
   "cell_type": "code",
   "execution_count": 31,
   "metadata": {},
   "outputs": [
    {
     "data": {
      "text/plain": [
       "0      True\n",
       "1      True\n",
       "2     False\n",
       "3     False\n",
       "4      True\n",
       "5      True\n",
       "6     False\n",
       "7     False\n",
       "8      True\n",
       "9      True\n",
       "10    False\n",
       "11    False\n",
       "12     True\n",
       "13     True\n",
       "14    False\n",
       "15    False\n",
       "Name: Firstname, dtype: bool"
      ]
     },
     "execution_count": 31,
     "metadata": {},
     "output_type": "execute_result"
    }
   ],
   "source": [
    "df['Firstname'] == 'Niraj'"
   ]
  },
  {
   "cell_type": "code",
   "execution_count": 32,
   "metadata": {},
   "outputs": [
    {
     "data": {
      "text/plain": [
       "558.2142857142857"
      ]
     },
     "execution_count": 32,
     "metadata": {},
     "output_type": "execute_result"
    }
   ],
   "source": [
    "df['Zip'].mean()"
   ]
  },
  {
   "cell_type": "code",
   "execution_count": 33,
   "metadata": {},
   "outputs": [
    {
     "data": {
      "text/plain": [
       "567.0"
      ]
     },
     "execution_count": 33,
     "metadata": {},
     "output_type": "execute_result"
    }
   ],
   "source": [
    "df['Zip'].median()"
   ]
  },
  {
   "cell_type": "code",
   "execution_count": 34,
   "metadata": {},
   "outputs": [
    {
     "data": {
      "text/plain": [
       "0    456.0\n",
       "1    567.0\n",
       "dtype: float64"
      ]
     },
     "execution_count": 34,
     "metadata": {},
     "output_type": "execute_result"
    }
   ],
   "source": [
    "df['Zip'].mode()"
   ]
  },
  {
   "cell_type": "code",
   "execution_count": 36,
   "metadata": {},
   "outputs": [
    {
     "data": {
      "text/plain": [
       "<matplotlib.axes._subplots.AxesSubplot at 0x7efff4e79090>"
      ]
     },
     "execution_count": 36,
     "metadata": {},
     "output_type": "execute_result"
    },
    {
     "data": {
      "image/png": "[encoded data removed]",
      "text/plain": [
       "<Figure size 432x288 with 1 Axes>"
      ]
     },
     "metadata": {
      "needs_background": "light"
     },
     "output_type": "display_data"
    }
   ],
   "source": [
    "import matplotlib.pyplot as plt\n",
    "df.plot()"
   ]
  },
  {
   "cell_type": "code",
   "execution_count": 37,
   "metadata": {},
   "outputs": [
    {
     "data": {
      "text/plain": [
       "array([[<matplotlib.axes._subplots.AxesSubplot object at 0x7efff3bb76d0>,\n",
       "        <matplotlib.axes._subplots.AxesSubplot object at 0x7efff3b618d0>]],\n",
       "      dtype=object)"
      ]
     },
     "execution_count": 37,
     "metadata": {},
     "output_type": "execute_result"
    },
    {
     "data": {
      "image/png": "[encoded data removed]",
      "text/plain": [
       "<Figure size 432x288 with 2 Axes>"
      ]
     },
     "metadata": {
      "needs_background": "light"
     },
     "output_type": "display_data"
    }
   ],
   "source": [
    "df.hist()"
   ]
  },
  {
   "cell_type": "code",
   "execution_count": 38,
   "metadata": {},
   "outputs": [
    {
     "data": {
      "text/plain": [
       "<matplotlib.axes._subplots.AxesSubplot at 0x7efff498f4d0>"
      ]
     },
     "execution_count": 38,
     "metadata": {},
     "output_type": "execute_result"
    },
    {
     "data": {
      "image/png": "[encoded data removed]",
      "text/plain": [
       "<Figure size 432x288 with 1 Axes>"
      ]
     },
     "metadata": {
      "needs_background": "light"
     },
     "output_type": "display_data"
    }
   ],
   "source": [
    "df['Zip'].plot()"
   ]
  },
  {
   "cell_type": "code",
   "execution_count": 39,
   "metadata": {},
   "outputs": [
    {
     "data": {
      "text/plain": [
       "<matplotlib.axes._subplots.AxesSubplot at 0x7efff3a11dd0>"
      ]
     },
     "execution_count": 39,
     "metadata": {},
     "output_type": "execute_result"
    },
    {
     "data": {
      "image/png": "[encoded data removed]",
      "text/plain": [
       "<Figure size 432x288 with 1 Axes>"
      ]
     },
     "metadata": {
      "needs_background": "light"
     },
     "output_type": "display_data"
    }
   ],
   "source": [
    "df['Contact'].hist()"
   ]
  },
  {
   "cell_type": "code",
   "execution_count": null,
   "metadata": {},
   "outputs": [],
   "source": []
  }
 ],
 "metadata": {
  "kernelspec": {
   "display_name": "Python 3",
   "language": "python",
   "name": "python3"
  },
  "language_info": {
   "codemirror_mode": {
    "name": "ipython",
    "version": 3
   },
   "file_extension": ".py",
   "mimetype": "text/x-python",
   "name": "python",
   "nbconvert_exporter": "python",
   "pygments_lexer": "ipython3",
   "version": "3.7.4"
  }
 },
 "nbformat": 4,
 "nbformat_minor": 4
}
