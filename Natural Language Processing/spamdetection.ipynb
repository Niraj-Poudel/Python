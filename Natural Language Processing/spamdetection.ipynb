{
 "cells": [
  {
   "cell_type": "code",
   "execution_count": 1,
   "metadata": {
    "_cell_guid": "b1076dfc-b9ad-4769-8c92-a6c4dae69d19",
    "_uuid": "8f2839f25d086af736a60e9eeb907d3b93b6e0e5"
   },
   "outputs": [
    {
     "name": "stdout",
     "output_type": "stream",
     "text": [
      "/kaggle/input/textdata/Amazon_Unlocked_Mobile.csv\n",
      "/kaggle/input/textdata/newsgroups\n",
      "/kaggle/input/textdata/mygrammar.cfg\n",
      "/kaggle/input/textdata/UNHDR.pdf\n",
      "/kaggle/input/textdata/moby.txt\n",
      "/kaggle/input/textdata/paraphrases.csv\n",
      "/kaggle/input/textdata/dates.txt\n",
      "/kaggle/input/textdata/UNHDR.txt\n",
      "/kaggle/input/textdata/spam.csv\n"
     ]
    }
   ],
   "source": [
    "# This Python 3 environment comes with many helpful analytics libraries installed\n",
    "# It is defined by the kaggle/python Docker image: https://github.com/kaggle/docker-python\n",
    "# For example, here's several helpful packages to load\n",
    "\n",
    "import numpy as np # linear algebra\n",
    "import pandas as pd # data processing, CSV file I/O (e.g. pd.read_csv)\n",
    "\n",
    "# Input data files are available in the read-only \"../input/\" directory\n",
    "# For example, running this (by clicking run or pressing Shift+Enter) will list all files under the input directory\n",
    "\n",
    "import os\n",
    "for dirname, _, filenames in os.walk('/kaggle/input'):\n",
    "    for filename in filenames:\n",
    "        print(os.path.join(dirname, filename))\n",
    "\n",
    "# You can write up to 5GB to the current directory (/kaggle/working/) that gets preserved as output when you create a version using \"Save & Run All\" \n",
    "# You can also write temporary files to /kaggle/temp/, but they won't be saved outside of the current session"
   ]
  },
  {
   "cell_type": "code",
   "execution_count": 2,
   "metadata": {
    "_cell_guid": "79c7e3d0-c299-4dcb-8224-4455121ee9b0",
    "_uuid": "d629ff2d2480ee46fbb7e2d37f6b5fab8052498a"
   },
   "outputs": [
    {
     "data": {
      "text/html": [
       "<div>\n",
       "<style scoped>\n",
       "    .dataframe tbody tr th:only-of-type {\n",
       "        vertical-align: middle;\n",
       "    }\n",
       "\n",
       "    .dataframe tbody tr th {\n",
       "        vertical-align: top;\n",
       "    }\n",
       "\n",
       "    .dataframe thead th {\n",
       "        text-align: right;\n",
       "    }\n",
       "</style>\n",
       "<table border=\"1\" class=\"dataframe\">\n",
       "  <thead>\n",
       "    <tr style=\"text-align: right;\">\n",
       "      <th></th>\n",
       "      <th>text</th>\n",
       "      <th>target</th>\n",
       "    </tr>\n",
       "  </thead>\n",
       "  <tbody>\n",
       "    <tr>\n",
       "      <th>0</th>\n",
       "      <td>Go until jurong point, crazy.. Available only ...</td>\n",
       "      <td>0</td>\n",
       "    </tr>\n",
       "    <tr>\n",
       "      <th>1</th>\n",
       "      <td>Ok lar... Joking wif u oni...</td>\n",
       "      <td>0</td>\n",
       "    </tr>\n",
       "    <tr>\n",
       "      <th>2</th>\n",
       "      <td>Free entry in 2 a wkly comp to win FA Cup fina...</td>\n",
       "      <td>1</td>\n",
       "    </tr>\n",
       "    <tr>\n",
       "      <th>3</th>\n",
       "      <td>U dun say so early hor... U c already then say...</td>\n",
       "      <td>0</td>\n",
       "    </tr>\n",
       "    <tr>\n",
       "      <th>4</th>\n",
       "      <td>Nah I don't think he goes to usf, he lives aro...</td>\n",
       "      <td>0</td>\n",
       "    </tr>\n",
       "  </tbody>\n",
       "</table>\n",
       "</div>"
      ],
      "text/plain": [
       "                                                text  target\n",
       "0  Go until jurong point, crazy.. Available only ...       0\n",
       "1                      Ok lar... Joking wif u oni...       0\n",
       "2  Free entry in 2 a wkly comp to win FA Cup fina...       1\n",
       "3  U dun say so early hor... U c already then say...       0\n",
       "4  Nah I don't think he goes to usf, he lives aro...       0"
      ]
     },
     "execution_count": 2,
     "metadata": {},
     "output_type": "execute_result"
    }
   ],
   "source": [
    "spam_data = pd.read_csv('/kaggle/input/textdata/spam.csv')\n",
    "spam_data['target'] = np.where(spam_data['target']=='spam',1,0)\n",
    "spam_data.head()"
   ]
  },
  {
   "cell_type": "code",
   "execution_count": 3,
   "metadata": {},
   "outputs": [],
   "source": [
    "from sklearn.model_selection import train_test_split\n",
    "X_train,X_test,y_train,y_test = train_test_split(spam_data['text'],\n",
    "                                                spam_data['target'],\n",
    "                                                random_state=0)"
   ]
  },
  {
   "cell_type": "markdown",
   "execution_count": null,
   "metadata": {},
   "source": [
    "Percentage of document that are spam"
   ]
  },
  {
   "cell_type": "code",
   "execution_count": 4,
   "metadata": {},
   "outputs": [
    {
     "data": {
      "text/plain": [
       "13.406317300789663"
      ]
     },
     "execution_count": 4,
     "metadata": {},
     "output_type": "execute_result"
    }
   ],
   "source": [
    "len(spam_data[spam_data['target']==1])/len(spam_data['target'])*100"
   ]
  },
  {
   "cell_type": "markdown",
   "execution_count": null,
   "metadata": {},
   "source": [
    "Fiting the training data X_train using a Count Vectorizer"
   ]
  },
  {
   "cell_type": "code",
   "execution_count": 5,
   "metadata": {},
   "outputs": [
    {
     "data": {
      "text/plain": [
       "'com1win150ppmx3age16subscription'"
      ]
     },
     "execution_count": 5,
     "metadata": {},
     "output_type": "execute_result"
    }
   ],
   "source": [
    "from sklearn.feature_extraction.text import CountVectorizer\n",
    "vocab = CountVectorizer()    \n",
    "vocab = vocab.fit(X_train).vocabulary_\n",
    "    \n",
    "#we want only the keys i.e. words.\n",
    "vocab = [words for words in vocab.keys()]\n",
    "    \n",
    "#store the length in the seperate list.\n",
    "len_vocab = [len(words) for words in vocab]\n",
    "    \n",
    "#use the index of the longest token.\n",
    "vocab[np.argmax(len_vocab)]"
   ]
  },
  {
   "cell_type": "markdown",
   "execution_count": null,
   "metadata": {},
   "source": [
    "Fitting a multinomial Naive Bayes classifier model with smoothing alpha=0.1"
   ]
  },
  {
   "cell_type": "code",
   "execution_count": 6,
   "metadata": {},
   "outputs": [
    {
     "data": {
      "text/plain": [
       "0.9720812182741116"
      ]
     },
     "execution_count": 6,
     "metadata": {},
     "output_type": "execute_result"
    }
   ],
   "source": [
    "from sklearn.naive_bayes import MultinomialNB\n",
    "from sklearn.metrics import roc_auc_score\n",
    "\n",
    "cv = CountVectorizer().fit(X_train)\n",
    "    \n",
    "# Transform both X_train and X_test with the same CV object:\n",
    "X_train_cv = cv.transform(X_train)\n",
    "X_test_cv = cv.transform(X_test)\n",
    "    \n",
    "# Classifier for prediction:\n",
    "clf = MultinomialNB(alpha=0.1)\n",
    "clf.fit(X_train_cv, y_train)\n",
    "preds_test = clf.predict(X_test_cv)\n",
    "    \n",
    "roc_auc_score(y_test, preds_test)"
   ]
  },
  {
   "cell_type": "markdown",
   "execution_count": null,
   "metadata": {},
   "source": [
    "Fitting and transforming the training data X_train using a Tfidf Vectorizer with default parameters."
   ]
  },
  {
   "cell_type": "code",
   "execution_count": 7,
   "metadata": {},
   "outputs": [
    {
     "data": {
      "text/plain": [
       "(sympathetic     0.074475\n",
       " healer          0.074475\n",
       " aaniye          0.074475\n",
       " dependable      0.074475\n",
       " companion       0.074475\n",
       " listener        0.074475\n",
       " athletic        0.074475\n",
       " exterminator    0.074475\n",
       " psychiatrist    0.074475\n",
       " pest            0.074475\n",
       " determined      0.074475\n",
       " chef            0.074475\n",
       " courageous      0.074475\n",
       " stylist         0.074475\n",
       " psychologist    0.074475\n",
       " organizer       0.074475\n",
       " pudunga         0.074475\n",
       " venaam          0.074475\n",
       " diwali          0.091250\n",
       " mornings        0.091250\n",
       " dtype: float64,\n",
       " 146tf150p    1.000000\n",
       " havent       1.000000\n",
       " home         1.000000\n",
       " okie         1.000000\n",
       " thanx        1.000000\n",
       " er           1.000000\n",
       " anything     1.000000\n",
       " lei          1.000000\n",
       " nite         1.000000\n",
       " yup          1.000000\n",
       " thank        1.000000\n",
       " ok           1.000000\n",
       " where        1.000000\n",
       " beerage      1.000000\n",
       " anytime      1.000000\n",
       " too          1.000000\n",
       " done         1.000000\n",
       " 645          1.000000\n",
       " tick         0.980166\n",
       " blank        0.932702\n",
       " dtype: float64)"
      ]
     },
     "execution_count": 7,
     "metadata": {},
     "output_type": "execute_result"
    }
   ],
   "source": [
    "from sklearn.feature_extraction.text import TfidfVectorizer\n",
    "\n",
    "tfidf = TfidfVectorizer().fit(X_train)\n",
    "feature_names = np.array(tfidf.get_feature_names())\n",
    "    \n",
    "X_train_tf = tfidf.transform(X_train)\n",
    "    \n",
    "max_tf_idfs = X_train_tf.max(0).toarray()[0] # Get largest tfidf values across all documents.\n",
    "sorted_tf_idxs = max_tf_idfs.argsort() # Sorted indices\n",
    "sorted_tf_idfs = max_tf_idfs[sorted_tf_idxs] # Sorted TFIDF values\n",
    "    \n",
    "# feature_names doesn't need to be sorted! You just access it with a list of sorted indices!\n",
    "smallest_tf_idfs = pd.Series(sorted_tf_idfs[:20], index=feature_names[sorted_tf_idxs[:20]])                    \n",
    "largest_tf_idfs = pd.Series(sorted_tf_idfs[-20:][::-1], index=feature_names[sorted_tf_idxs[-20:][::-1]])\n",
    "    \n",
    "(smallest_tf_idfs, largest_tf_idfs)"
   ]
  },
  {
   "cell_type": "markdown",
   "execution_count": null,
   "metadata": {},
   "source": [
    "Fitting and transforming the training data X_train using a Tfidf Vectorizer ignoring terms that have a document frequency strictly lower than 3.\n",
    "\n",
    "Then fitting a multinomial Naive Bayes classifier model with smoothing alpha=0.1 and compute the area under the curve (AUC) score using the transformed test data."
   ]
  },
  {
   "cell_type": "code",
   "execution_count": 8,
   "metadata": {},
   "outputs": [
    {
     "data": {
      "text/plain": [
       "0.9416243654822335"
      ]
     },
     "execution_count": 8,
     "metadata": {},
     "output_type": "execute_result"
    }
   ],
   "source": [
    "tf = TfidfVectorizer(min_df=3).fit(X_train)\n",
    "X_train_tf = tf.transform(X_train)\n",
    "X_test_tf = tf.transform(X_test)\n",
    "clf = MultinomialNB(alpha=0.1)\n",
    "clf.fit(X_train_tf, y_train)\n",
    "pred = clf.predict(X_test_tf)\n",
    "roc_auc_score(y_test, pred)"
   ]
  },
  {
   "cell_type": "markdown",
   "execution_count": null,
   "metadata": {},
   "source": [
    "The average length of documents (number of characters) for not spam and spam documents"
   ]
  },
  {
   "cell_type": "code",
   "execution_count": 9,
   "metadata": {},
   "outputs": [
    {
     "data": {
      "text/plain": [
       "(71.02362694300518, 138.8661311914324)"
      ]
     },
     "execution_count": 9,
     "metadata": {},
     "output_type": "execute_result"
    }
   ],
   "source": [
    "len_spam = [len(x) for x in spam_data.loc[spam_data['target']==1, 'text']]\n",
    "len_not_spam = [len(x) for x in spam_data.loc[spam_data['target']==0, 'text']]\n",
    "(np.mean(len_not_spam), np.mean(len_spam))"
   ]
  },
  {
   "cell_type": "markdown",
   "execution_count": null,
   "metadata": {},
   "source": [
    "Combine new features into the training data:"
   ]
  },
  {
   "cell_type": "code",
   "execution_count": 10,
   "metadata": {},
   "outputs": [],
   "source": [
    "from scipy.sparse import csr_matrix, hstack\n",
    "def add_feature(X,feature_to_add):\n",
    "    return hstack([X, csr_matrix(feature_to_add).T], 'csr')"
   ]
  },
  {
   "cell_type": "markdown",
   "execution_count": null,
   "metadata": {},
   "source": [
    "Fitting and transforming the training data X_train using a Tfidf Vectorizer ignoring terms that have a document frequency strictly lower than 5.\n",
    "\n",
    "Using this document-term matrix and an additional feature, the length of document (number of characters), fitting a Support Vector Classification model with regularization C=10000. Then computing the area under the curve (AUC) score using the transformed test data."
   ]
  },
  {
   "cell_type": "code",
   "execution_count": 11,
   "metadata": {},
   "outputs": [
    {
     "data": {
      "text/plain": [
       "0.9661689557407943"
      ]
     },
     "execution_count": 11,
     "metadata": {},
     "output_type": "execute_result"
    }
   ],
   "source": [
    "from sklearn.svm import SVC\n",
    "\n",
    "len_train = [len(x) for x in X_train]\n",
    "len_test = [len(x) for x in X_test]\n",
    "    \n",
    "tf = TfidfVectorizer(min_df=5).fit(X_train)\n",
    "X_train_tf = tf.transform(X_train)\n",
    "X_test_tf = tf.transform(X_test)\n",
    "    \n",
    "X_train_tf = add_feature(X_train_tf, len_train)\n",
    "X_test_tf = add_feature(X_test_tf, len_test)\n",
    "    \n",
    "clf = SVC(C=10000)\n",
    "clf.fit(X_train_tf, y_train)\n",
    "pred = clf.predict(X_test_tf)\n",
    "    \n",
    "roc_auc_score(y_test, pred)"
   ]
  },
  {
   "cell_type": "markdown",
   "execution_count": null,
   "metadata": {},
   "source": [
    "The average number of digits per document for not spam and spam documents."
   ]
  },
  {
   "cell_type": "code",
   "execution_count": 12,
   "metadata": {},
   "outputs": [
    {
     "data": {
      "text/plain": [
       "(0.2992746113989637, 15.76037483266399)"
      ]
     },
     "execution_count": 12,
     "metadata": {},
     "output_type": "execute_result"
    }
   ],
   "source": [
    "dig_spam = [sum(char.isnumeric() for char in x) for x in spam_data.loc[spam_data['target']==1,'text']]\n",
    "dig_not_spam = [sum(char.isnumeric() for char in x) for x in spam_data.loc[spam_data['target']==0,'text']]\n",
    "(np.mean(dig_not_spam), np.mean(dig_spam))"
   ]
  },
  {
   "cell_type": "markdown",
   "execution_count": null,
   "metadata": {},
   "source": [
    "Fitting and transformig the training data X_train using a Tfidf Vectorizer ignoring terms that have a document frequency strictly lower than 5 and using word n-grams from n=1 to n=3 (unigrams, bigrams, and trigrams).\n",
    "\n",
    "Using this document-term matrix and the following additional features:\n",
    "\n",
    "the length of document (number of characters)\n",
    "number of digits per document\n",
    "fit a Logistic Regression model with regularization C=100. Then compute the area under the curve (AUC) score using the transformed test data."
   ]
  },
  {
   "cell_type": "code",
   "execution_count": 13,
   "metadata": {},
   "outputs": [
    {
     "name": "stderr",
     "output_type": "stream",
     "text": [
      "/opt/conda/lib/python3.7/site-packages/sklearn/linear_model/_logistic.py:764: ConvergenceWarning: lbfgs failed to converge (status=1):\n",
      "STOP: TOTAL NO. of ITERATIONS REACHED LIMIT.\n",
      "\n",
      "Increase the number of iterations (max_iter) or scale the data as shown in:\n",
      "    https://scikit-learn.org/stable/modules/preprocessing.html\n",
      "Please also refer to the documentation for alternative solver options:\n",
      "    https://scikit-learn.org/stable/modules/linear_model.html#logistic-regression\n",
      "  extra_warning_msg=_LOGISTIC_SOLVER_CONVERGENCE_MSG)\n"
     ]
    },
    {
     "data": {
      "text/plain": [
       "0.9678709064054463"
      ]
     },
     "execution_count": 13,
     "metadata": {},
     "output_type": "execute_result"
    }
   ],
   "source": [
    "from sklearn.linear_model import LogisticRegression\n",
    "\n",
    "dig_train = [sum(char.isnumeric() for char in x) for x in X_train]\n",
    "dig_test = [sum(char.isnumeric() for char in x) for x in X_test]\n",
    "    \n",
    "tf = TfidfVectorizer(min_df = 5, ngram_range = (1,3)).fit(X_train)\n",
    "X_train_tf = tf.transform(X_train)\n",
    "X_test_tf = tf.transform(X_test)\n",
    "    \n",
    "X_train_tf = add_feature(X_train_tf, dig_train)\n",
    "X_test_tf = add_feature(X_test_tf, dig_test)\n",
    "    \n",
    "clf = LogisticRegression(C=100).fit(X_train_tf, y_train)\n",
    "pred = clf.predict(X_test_tf)\n",
    "    \n",
    "roc_auc_score(y_test, pred)"
   ]
  },
  {
   "cell_type": "markdown",
   "execution_count": null,
   "metadata": {},
   "source": [
    "The average number of non-word characters (anything other than a letter, digit or underscore) per document for not spam and spam documents"
   ]
  },
  {
   "cell_type": "code",
   "execution_count": 14,
   "metadata": {},
   "outputs": [
    {
     "data": {
      "text/plain": [
       "(17.29181347150259, 29.041499330655956)"
      ]
     },
     "execution_count": 14,
     "metadata": {},
     "output_type": "execute_result"
    }
   ],
   "source": [
    "(np.mean(spam_data.loc[spam_data['target']==0,'text'].str.count('\\W')), \n",
    "np.mean(spam_data.loc[spam_data['target']==1,'text'].str.count('\\W')))"
   ]
  },
  {
   "cell_type": "markdown",
   "execution_count": null,
   "metadata": {},
   "source": [
    "Fit and transform the training data X_train using a Count Vectorizer ignoring terms that have a document frequency strictly lower than 5 and using character n-grams from n=2 to n=5.\n",
    "\n",
    "To tell Count Vectorizer to use character n-grams pass in analyzer='char_wb' which creates character n-grams only from text inside word boundaries. This should make the model more robust to spelling mistakes.\n",
    "\n",
    "Using this document-term matrix and the following additional features:\n",
    "\n",
    "the length of document (number of characters)\n",
    "number of digits per document\n",
    "number of non-word characters (anything other than a letter, digit or underscore.)\n",
    "fit a Logistic Regression model with regularization C=100. Then compute the area under the curve (AUC) score using the transformed test data.\n",
    "\n",
    "Also find the 10 smallest and 10 largest coefficients from the model and return them along with the AUC score in a tuple.\n",
    "\n",
    "The list of 10 smallest coefficients should be sorted smallest first, the list of 10 largest coefficients should be sorted largest first.\n",
    "\n",
    "The three features that were added to the document term matrix should have the following names should they appear in the list of coefficients: ['length_of_doc', 'digit_count', 'non_word_char_count']"
   ]
  },
  {
   "cell_type": "code",
   "execution_count": 15,
   "metadata": {},
   "outputs": [
    {
     "name": "stderr",
     "output_type": "stream",
     "text": [
      "/opt/conda/lib/python3.7/site-packages/sklearn/linear_model/_logistic.py:764: ConvergenceWarning: lbfgs failed to converge (status=1):\n",
      "STOP: TOTAL NO. of ITERATIONS REACHED LIMIT.\n",
      "\n",
      "Increase the number of iterations (max_iter) or scale the data as shown in:\n",
      "    https://scikit-learn.org/stable/modules/preprocessing.html\n",
      "Please also refer to the documentation for alternative solver options:\n",
      "    https://scikit-learn.org/stable/modules/linear_model.html#logistic-regression\n",
      "  extra_warning_msg=_LOGISTIC_SOLVER_CONVERGENCE_MSG)\n"
     ]
    },
    {
     "data": {
      "text/plain": [
       "(0.9809793219360643,\n",
       " ['..', '. ', ' i', ' y', ' go', '? ', 'ok', 'pe', 'go', ' h'],\n",
       " ['digit_count', 'ne', 'ww', 'co', 'xt', 'ia', 'uk', 'ar', ' ch', 'mob'])"
      ]
     },
     "execution_count": 15,
     "metadata": {},
     "output_type": "execute_result"
    }
   ],
   "source": [
    "len_train = [len(x) for x in X_train]\n",
    "len_test = [len(x) for x in X_test]\n",
    "dig_train = [sum(char.isnumeric() for char in x) for x in X_train]\n",
    "dig_test = [sum(char.isnumeric() for char in x) for x in X_test]\n",
    "    \n",
    "# Not alpha numeric:\n",
    "nan_train = X_train.str.count('\\W')\n",
    "nan_test = X_test.str.count('\\W')\n",
    "    \n",
    "cv = CountVectorizer(min_df = 5, ngram_range=(2,5), analyzer='char_wb').fit(X_train)\n",
    "X_train_cv = cv.transform(X_train)\n",
    "X_test_cv = cv.transform(X_test)\n",
    "    \n",
    "X_train_cv = add_feature(X_train_cv, [len_train, dig_train, nan_train])\n",
    "X_test_cv = add_feature(X_test_cv, [len_test, dig_test, nan_test])\n",
    "    \n",
    "clf = LogisticRegression(C=100).fit(X_train_cv, y_train)\n",
    "pred = clf.predict(X_test_cv)\n",
    "    \n",
    "score = roc_auc_score(y_test, pred)\n",
    "    \n",
    "feature_names = np.array(cv.get_feature_names() + ['length_of_doc', 'digit_count', 'non_word_char_count'])\n",
    "sorted_coef_index = clf.coef_[0].argsort()\n",
    "small_coeffs = list(feature_names[sorted_coef_index[:10]])\n",
    "large_coeffs = list(feature_names[sorted_coef_index[:-11:-1]])\n",
    "    \n",
    "(score, small_coeffs, large_coeffs)"
   ]
  },
  {
   "cell_type": "code",
   "execution_count": null,
   "metadata": {},
   "outputs": [],
   "source": []
  }
 ],
 "metadata": {
  "kernelspec": {
   "display_name": "Python 3",
   "language": "python",
   "name": "python3"
  },
  "language_info": {
   "codemirror_mode": {
    "name": "ipython",
    "version": 3
   },
   "file_extension": ".py",
   "mimetype": "text/x-python",
   "name": "python",
   "nbconvert_exporter": "python",
   "pygments_lexer": "ipython3",
   "version": "3.7.6"
  }
 },
 "nbformat": 4,
 "nbformat_minor": 4
}
