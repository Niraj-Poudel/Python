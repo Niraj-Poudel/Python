{
 "cells": [
  {
   "cell_type": "code",
   "execution_count": 30,
   "metadata": {},
   "outputs": [],
   "source": [
    "String = \"Sometimes you win sometimes you learn. So don't let the fear take over.\"\n",
    "String = String.split(' ')"
   ]
  },
  {
   "cell_type": "code",
   "execution_count": 31,
   "metadata": {},
   "outputs": [
    {
     "name": "stdout",
     "output_type": "stream",
     "text": [
      "['Sometimes', 'sometimes', 'learn.']\n"
     ]
    }
   ],
   "source": [
    "#Finding the words whose length is greater than 5\n",
    "print([word for word in String if len(word)>5])"
   ]
  },
  {
   "cell_type": "code",
   "execution_count": 32,
   "metadata": {},
   "outputs": [
    {
     "name": "stdout",
     "output_type": "stream",
     "text": [
      "['Sometimes', 'So']\n"
     ]
    }
   ],
   "source": [
    "#Finding capatilize word.\n",
    "print([word for word in String if word.istitle()])"
   ]
  },
  {
   "cell_type": "code",
   "execution_count": 33,
   "metadata": {},
   "outputs": [
    {
     "name": "stdout",
     "output_type": "stream",
     "text": [
      "['you', 'win', 'sometimes', 'you', 'learn.', \"don't\", 'let', 'the', 'fear', 'take', 'over.']\n"
     ]
    }
   ],
   "source": [
    "#Finding the first letter small word.\n",
    "print([word for word in String if word.islower()])"
   ]
  },
  {
   "cell_type": "code",
   "execution_count": 38,
   "metadata": {},
   "outputs": [
    {
     "name": "stdout",
     "output_type": "stream",
     "text": [
      "['learn.', 'the', 'fear', 'take', 'over.']\n"
     ]
    }
   ],
   "source": [
    "#Finding the words that ends with `r` and `e`,`.`\n",
    "print([word for word in String if word.endswith(('r','e','.'))])"
   ]
  },
  {
   "cell_type": "code",
   "execution_count": 39,
   "metadata": {},
   "outputs": [
    {
     "name": "stdout",
     "output_type": "stream",
     "text": [
      "['Sometimes', 'sometimes', 'So']\n"
     ]
    }
   ],
   "source": [
    "#Finding the words that starts with `S` or `s`\n",
    "print([word for word in String if word.startswith(('S','s'))])"
   ]
  },
  {
   "cell_type": "code",
   "execution_count": 40,
   "metadata": {},
   "outputs": [
    {
     "name": "stdout",
     "output_type": "stream",
     "text": [
      "['Sometimes', 'you', 'win', 'sometimes', 'you', 'So', 'let', 'the', 'fear', 'take']\n"
     ]
    }
   ],
   "source": [
    "#Finding the character in a string.\n",
    "print([word for word in String if word.isalpha()])"
   ]
  },
  {
   "cell_type": "code",
   "execution_count": null,
   "metadata": {},
   "outputs": [],
   "source": []
  },
  {
   "cell_type": "code",
   "execution_count": null,
   "metadata": {},
   "outputs": [],
   "source": []
  }
 ],
 "metadata": {
  "kernelspec": {
   "display_name": "Python 3",
   "language": "python",
   "name": "python3"
  },
  "language_info": {
   "codemirror_mode": {
    "name": "ipython",
    "version": 3
   },
   "file_extension": ".py",
   "mimetype": "text/x-python",
   "name": "python",
   "nbconvert_exporter": "python",
   "pygments_lexer": "ipython3",
   "version": "3.7.4"
  }
 },
 "nbformat": 4,
 "nbformat_minor": 4
}
